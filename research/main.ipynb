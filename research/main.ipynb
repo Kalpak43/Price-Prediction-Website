{
 "cells": [
  {
   "cell_type": "code",
   "execution_count": 1,
   "id": "8a29df00",
   "metadata": {},
   "outputs": [],
   "source": [
    "import json  # will be needed for saving preprocessing details\n",
    "\n",
    "import numpy as np  \n",
    "\n",
    "import pandas as pd \n",
    "\n",
    "import matplotlib.pyplot as plt \n",
    "\n",
    "%matplotlib inline  \n",
    "\n",
    "import matplotlib \n",
    "\n",
    "from sklearn.model_selection import train_test_split\n",
    "\n",
    "from sklearn.linear_model import LinearRegression \n",
    "\n",
    "import joblib    # for saving algorithm and preprocessing objects"
   ]
  },
  {
   "cell_type": "code",
   "execution_count": 2,
   "id": "bce3bc2b",
   "metadata": {},
   "outputs": [
    {
     "name": "stderr",
     "output_type": "stream",
     "text": [
      "C:\\Users\\ADMIN\\AppData\\Local\\Temp\\ipykernel_14272\\930519863.py:15: SettingWithCopyWarning: \n",
      "A value is trying to be set on a copy of a slice from a DataFrame.\n",
      "Try using .loc[row_indexer,col_indexer] = value instead\n",
      "\n",
      "See the caveats in the documentation: https://pandas.pydata.org/pandas-docs/stable/user_guide/indexing.html#returning-a-view-versus-a-copy\n",
      "  df3['bhk']=df3['size'].apply(lambda x: int(x.split(' ')[0]))\n"
     ]
    },
    {
     "data": {
      "text/html": [
       "<div>\n",
       "<style scoped>\n",
       "    .dataframe tbody tr th:only-of-type {\n",
       "        vertical-align: middle;\n",
       "    }\n",
       "\n",
       "    .dataframe tbody tr th {\n",
       "        vertical-align: top;\n",
       "    }\n",
       "\n",
       "    .dataframe thead th {\n",
       "        text-align: right;\n",
       "    }\n",
       "</style>\n",
       "<table border=\"1\" class=\"dataframe\">\n",
       "  <thead>\n",
       "    <tr style=\"text-align: right;\">\n",
       "      <th></th>\n",
       "      <th>location</th>\n",
       "      <th>size</th>\n",
       "      <th>total_sqft</th>\n",
       "      <th>bath</th>\n",
       "      <th>price</th>\n",
       "      <th>bhk</th>\n",
       "    </tr>\n",
       "  </thead>\n",
       "  <tbody>\n",
       "    <tr>\n",
       "      <th>30</th>\n",
       "      <td>Yelahanka</td>\n",
       "      <td>4 BHK</td>\n",
       "      <td>2100 - 2850</td>\n",
       "      <td>4.0</td>\n",
       "      <td>186.000</td>\n",
       "      <td>4</td>\n",
       "    </tr>\n",
       "    <tr>\n",
       "      <th>122</th>\n",
       "      <td>Hebbal</td>\n",
       "      <td>4 BHK</td>\n",
       "      <td>3067 - 8156</td>\n",
       "      <td>4.0</td>\n",
       "      <td>477.000</td>\n",
       "      <td>4</td>\n",
       "    </tr>\n",
       "    <tr>\n",
       "      <th>137</th>\n",
       "      <td>8th Phase JP Nagar</td>\n",
       "      <td>2 BHK</td>\n",
       "      <td>1042 - 1105</td>\n",
       "      <td>2.0</td>\n",
       "      <td>54.005</td>\n",
       "      <td>2</td>\n",
       "    </tr>\n",
       "    <tr>\n",
       "      <th>165</th>\n",
       "      <td>Sarjapur</td>\n",
       "      <td>2 BHK</td>\n",
       "      <td>1145 - 1340</td>\n",
       "      <td>2.0</td>\n",
       "      <td>43.490</td>\n",
       "      <td>2</td>\n",
       "    </tr>\n",
       "    <tr>\n",
       "      <th>188</th>\n",
       "      <td>KR Puram</td>\n",
       "      <td>2 BHK</td>\n",
       "      <td>1015 - 1540</td>\n",
       "      <td>2.0</td>\n",
       "      <td>56.800</td>\n",
       "      <td>2</td>\n",
       "    </tr>\n",
       "    <tr>\n",
       "      <th>410</th>\n",
       "      <td>Kengeri</td>\n",
       "      <td>1 BHK</td>\n",
       "      <td>34.46Sq. Meter</td>\n",
       "      <td>1.0</td>\n",
       "      <td>18.500</td>\n",
       "      <td>1</td>\n",
       "    </tr>\n",
       "    <tr>\n",
       "      <th>549</th>\n",
       "      <td>Hennur Road</td>\n",
       "      <td>2 BHK</td>\n",
       "      <td>1195 - 1440</td>\n",
       "      <td>2.0</td>\n",
       "      <td>63.770</td>\n",
       "      <td>2</td>\n",
       "    </tr>\n",
       "    <tr>\n",
       "      <th>648</th>\n",
       "      <td>Arekere</td>\n",
       "      <td>9 Bedroom</td>\n",
       "      <td>4125Perch</td>\n",
       "      <td>9.0</td>\n",
       "      <td>265.000</td>\n",
       "      <td>9</td>\n",
       "    </tr>\n",
       "    <tr>\n",
       "      <th>661</th>\n",
       "      <td>Yelahanka</td>\n",
       "      <td>2 BHK</td>\n",
       "      <td>1120 - 1145</td>\n",
       "      <td>2.0</td>\n",
       "      <td>48.130</td>\n",
       "      <td>2</td>\n",
       "    </tr>\n",
       "    <tr>\n",
       "      <th>672</th>\n",
       "      <td>Bettahalsoor</td>\n",
       "      <td>4 Bedroom</td>\n",
       "      <td>3090 - 5002</td>\n",
       "      <td>4.0</td>\n",
       "      <td>445.000</td>\n",
       "      <td>4</td>\n",
       "    </tr>\n",
       "  </tbody>\n",
       "</table>\n",
       "</div>"
      ],
      "text/plain": [
       "               location       size      total_sqft  bath    price  bhk\n",
       "30            Yelahanka      4 BHK     2100 - 2850   4.0  186.000    4\n",
       "122              Hebbal      4 BHK     3067 - 8156   4.0  477.000    4\n",
       "137  8th Phase JP Nagar      2 BHK     1042 - 1105   2.0   54.005    2\n",
       "165            Sarjapur      2 BHK     1145 - 1340   2.0   43.490    2\n",
       "188            KR Puram      2 BHK     1015 - 1540   2.0   56.800    2\n",
       "410             Kengeri      1 BHK  34.46Sq. Meter   1.0   18.500    1\n",
       "549         Hennur Road      2 BHK     1195 - 1440   2.0   63.770    2\n",
       "648             Arekere  9 Bedroom       4125Perch   9.0  265.000    9\n",
       "661           Yelahanka      2 BHK     1120 - 1145   2.0   48.130    2\n",
       "672        Bettahalsoor  4 Bedroom     3090 - 5002   4.0  445.000    4"
      ]
     },
     "execution_count": 2,
     "metadata": {},
     "output_type": "execute_result"
    }
   ],
   "source": [
    "matplotlib.rcParams[\"figure.figsize\"]=(20,10) \n",
    "\n",
    "df= pd.read_csv(r\"Bengaluru_House_Data.csv\") \n",
    "\n",
    "df.groupby('area_type')['area_type'].agg('count') \n",
    "\n",
    "df2=df.drop(['area_type','society','balcony','availability'],axis='columns') \n",
    "\n",
    "df2.isnull().sum() \n",
    "\n",
    "df3=df2.dropna() \n",
    "\n",
    "df3['size'].unique() \n",
    "\n",
    "df3['bhk']=df3['size'].apply(lambda x: int(x.split(' ')[0])) \n",
    "\n",
    "df3[df3.bhk>20] \n",
    "\n",
    "def is_float(x): \n",
    "\n",
    "    try: \n",
    "\n",
    "        float(x)  #try to convert a value if not possible then it is a exception \n",
    "\n",
    "    except: \n",
    "\n",
    "        return False  \n",
    "\n",
    "     \n",
    "\n",
    "    return True \n",
    "\n",
    "df3[~df3['total_sqft'].apply(is_float)].head(10) "
   ]
  },
  {
   "cell_type": "code",
   "execution_count": 3,
   "id": "92553555",
   "metadata": {},
   "outputs": [],
   "source": [
    "def convert_range(x): \n",
    "\n",
    "    Tokens = x.split('-') \n",
    "\n",
    "    if len(Tokens)==2: \n",
    "\n",
    "        return (float(Tokens[0]) +float(Tokens[1]))/2 \n",
    "\n",
    "    try: \n",
    "\n",
    "        return float(x) \n",
    "\n",
    "    except: \n",
    "\n",
    "        return None"
   ]
  },
  {
   "cell_type": "code",
   "execution_count": 4,
   "id": "7296591d",
   "metadata": {},
   "outputs": [],
   "source": [
    "df4=df3.copy() \n",
    "\n",
    "df4['total_sqft'] = df4['total_sqft'].apply(convert_range) "
   ]
  },
  {
   "cell_type": "code",
   "execution_count": 5,
   "id": "1f37b029",
   "metadata": {},
   "outputs": [],
   "source": [
    "df5 = df4.copy() \n",
    "\n",
    "df5['price_per_sqft'] = df['price']*100000/df5['total_sqft'] \n",
    "\n",
    "df5.location = df5.location.apply(lambda x: x.strip()) "
   ]
  },
  {
   "cell_type": "code",
   "execution_count": 6,
   "id": "0379a38d",
   "metadata": {},
   "outputs": [
    {
     "data": {
      "text/plain": [
       "10"
      ]
     },
     "execution_count": 6,
     "metadata": {},
     "output_type": "execute_result"
    }
   ],
   "source": [
    "loc_stats=df5.groupby('location') ['location'].agg('count').sort_values(ascending=False) \n",
    "\n",
    "len(loc_stats[loc_stats<=10].unique())"
   ]
  },
  {
   "cell_type": "code",
   "execution_count": 7,
   "id": "65f04d2d",
   "metadata": {},
   "outputs": [
    {
     "data": {
      "text/plain": [
       "location\n",
       "Basapura                 10\n",
       "1st Block Koramangala    10\n",
       "Gunjur Palya             10\n",
       "Kalkere                  10\n",
       "Sector 1 HSR Layout      10\n",
       "                         ..\n",
       "1 Giri Nagar              1\n",
       "Kanakapura Road,          1\n",
       "Kanakapura main  Road     1\n",
       "Karnataka Shabarimala     1\n",
       "whitefiled                1\n",
       "Name: location, Length: 1052, dtype: int64"
      ]
     },
     "execution_count": 7,
     "metadata": {},
     "output_type": "execute_result"
    }
   ],
   "source": [
    "loc_less_than_10 = loc_stats[loc_stats<=10]\n",
    "loc_less_than_10"
   ]
  },
  {
   "cell_type": "code",
   "execution_count": 8,
   "id": "c0b8e9c7",
   "metadata": {},
   "outputs": [
    {
     "data": {
      "text/html": [
       "<div>\n",
       "<style scoped>\n",
       "    .dataframe tbody tr th:only-of-type {\n",
       "        vertical-align: middle;\n",
       "    }\n",
       "\n",
       "    .dataframe tbody tr th {\n",
       "        vertical-align: top;\n",
       "    }\n",
       "\n",
       "    .dataframe thead th {\n",
       "        text-align: right;\n",
       "    }\n",
       "</style>\n",
       "<table border=\"1\" class=\"dataframe\">\n",
       "  <thead>\n",
       "    <tr style=\"text-align: right;\">\n",
       "      <th></th>\n",
       "      <th>location</th>\n",
       "      <th>size</th>\n",
       "      <th>total_sqft</th>\n",
       "      <th>bath</th>\n",
       "      <th>price</th>\n",
       "      <th>bhk</th>\n",
       "      <th>price_per_sqft</th>\n",
       "    </tr>\n",
       "  </thead>\n",
       "  <tbody>\n",
       "    <tr>\n",
       "      <th>9</th>\n",
       "      <td>other</td>\n",
       "      <td>6 Bedroom</td>\n",
       "      <td>1020.0</td>\n",
       "      <td>6.0</td>\n",
       "      <td>370.0</td>\n",
       "      <td>6</td>\n",
       "      <td>36274.509804</td>\n",
       "    </tr>\n",
       "    <tr>\n",
       "      <th>45</th>\n",
       "      <td>HSR Layout</td>\n",
       "      <td>8 Bedroom</td>\n",
       "      <td>600.0</td>\n",
       "      <td>9.0</td>\n",
       "      <td>200.0</td>\n",
       "      <td>8</td>\n",
       "      <td>33333.333333</td>\n",
       "    </tr>\n",
       "    <tr>\n",
       "      <th>58</th>\n",
       "      <td>Murugeshpalya</td>\n",
       "      <td>6 Bedroom</td>\n",
       "      <td>1407.0</td>\n",
       "      <td>4.0</td>\n",
       "      <td>150.0</td>\n",
       "      <td>6</td>\n",
       "      <td>10660.980810</td>\n",
       "    </tr>\n",
       "    <tr>\n",
       "      <th>68</th>\n",
       "      <td>Devarachikkanahalli</td>\n",
       "      <td>8 Bedroom</td>\n",
       "      <td>1350.0</td>\n",
       "      <td>7.0</td>\n",
       "      <td>85.0</td>\n",
       "      <td>8</td>\n",
       "      <td>6296.296296</td>\n",
       "    </tr>\n",
       "    <tr>\n",
       "      <th>70</th>\n",
       "      <td>other</td>\n",
       "      <td>3 Bedroom</td>\n",
       "      <td>500.0</td>\n",
       "      <td>3.0</td>\n",
       "      <td>100.0</td>\n",
       "      <td>3</td>\n",
       "      <td>20000.000000</td>\n",
       "    </tr>\n",
       "    <tr>\n",
       "      <th>78</th>\n",
       "      <td>Kaval Byrasandra</td>\n",
       "      <td>2 BHK</td>\n",
       "      <td>460.0</td>\n",
       "      <td>1.0</td>\n",
       "      <td>22.0</td>\n",
       "      <td>2</td>\n",
       "      <td>4782.608696</td>\n",
       "    </tr>\n",
       "    <tr>\n",
       "      <th>89</th>\n",
       "      <td>Rajaji Nagar</td>\n",
       "      <td>6 Bedroom</td>\n",
       "      <td>710.0</td>\n",
       "      <td>6.0</td>\n",
       "      <td>160.0</td>\n",
       "      <td>6</td>\n",
       "      <td>22535.211268</td>\n",
       "    </tr>\n",
       "    <tr>\n",
       "      <th>119</th>\n",
       "      <td>Hennur Road</td>\n",
       "      <td>2 Bedroom</td>\n",
       "      <td>276.0</td>\n",
       "      <td>3.0</td>\n",
       "      <td>23.0</td>\n",
       "      <td>2</td>\n",
       "      <td>8333.333333</td>\n",
       "    </tr>\n",
       "    <tr>\n",
       "      <th>129</th>\n",
       "      <td>Vishwapriya Layout</td>\n",
       "      <td>7 Bedroom</td>\n",
       "      <td>950.0</td>\n",
       "      <td>7.0</td>\n",
       "      <td>115.0</td>\n",
       "      <td>7</td>\n",
       "      <td>12105.263158</td>\n",
       "    </tr>\n",
       "    <tr>\n",
       "      <th>149</th>\n",
       "      <td>other</td>\n",
       "      <td>6 Bedroom</td>\n",
       "      <td>1034.0</td>\n",
       "      <td>5.0</td>\n",
       "      <td>185.0</td>\n",
       "      <td>6</td>\n",
       "      <td>17891.682785</td>\n",
       "    </tr>\n",
       "  </tbody>\n",
       "</table>\n",
       "</div>"
      ],
      "text/plain": [
       "                location       size  total_sqft  bath  price  bhk  \\\n",
       "9                  other  6 Bedroom      1020.0   6.0  370.0    6   \n",
       "45            HSR Layout  8 Bedroom       600.0   9.0  200.0    8   \n",
       "58         Murugeshpalya  6 Bedroom      1407.0   4.0  150.0    6   \n",
       "68   Devarachikkanahalli  8 Bedroom      1350.0   7.0   85.0    8   \n",
       "70                 other  3 Bedroom       500.0   3.0  100.0    3   \n",
       "78      Kaval Byrasandra      2 BHK       460.0   1.0   22.0    2   \n",
       "89          Rajaji Nagar  6 Bedroom       710.0   6.0  160.0    6   \n",
       "119          Hennur Road  2 Bedroom       276.0   3.0   23.0    2   \n",
       "129   Vishwapriya Layout  7 Bedroom       950.0   7.0  115.0    7   \n",
       "149                other  6 Bedroom      1034.0   5.0  185.0    6   \n",
       "\n",
       "     price_per_sqft  \n",
       "9      36274.509804  \n",
       "45     33333.333333  \n",
       "58     10660.980810  \n",
       "68      6296.296296  \n",
       "70     20000.000000  \n",
       "78      4782.608696  \n",
       "89     22535.211268  \n",
       "119     8333.333333  \n",
       "129    12105.263158  \n",
       "149    17891.682785  "
      ]
     },
     "execution_count": 8,
     "metadata": {},
     "output_type": "execute_result"
    }
   ],
   "source": [
    "df5.location = df5.location.apply(lambda x: 'other' if x in loc_less_than_10 else x ) \n",
    "\n",
    "df5[df5.total_sqft/df5.bhk<300].head(10)"
   ]
  },
  {
   "cell_type": "code",
   "execution_count": 9,
   "id": "d628c29a",
   "metadata": {},
   "outputs": [],
   "source": [
    "df6 = df5[~(df5.total_sqft/df5.bhk<300)] "
   ]
  },
  {
   "cell_type": "code",
   "execution_count": 10,
   "id": "0c65124d",
   "metadata": {},
   "outputs": [],
   "source": [
    "def remove_outliers(df):         #take dataframe as input \n",
    "\n",
    "    df_out = pd.DataFrame() \n",
    "\n",
    "    for key, subdf in df.groupby('location'): \n",
    "\n",
    "        m = np.mean(subdf.price_per_sqft) \n",
    "\n",
    "        st = np.std(subdf.price_per_sqft) \n",
    "\n",
    "        reduced_df = subdf[(subdf.price_per_sqft>(m-st)) & (subdf.price_per_sqft<=(m+st))] \n",
    "\n",
    "        df_out = pd.concat([df_out,reduced_df] , ignore_index=True) \n",
    "\n",
    "    return df_out      "
   ]
  },
  {
   "cell_type": "code",
   "execution_count": 11,
   "id": "e100af0c",
   "metadata": {},
   "outputs": [
    {
     "data": {
      "text/plain": [
       "{'1': {'mean': 4000, 'std': 2000, 'count': 34},\n",
       " '2': {'mean': 4300, 'std': 2300, 'count': 22}}"
      ]
     },
     "execution_count": 11,
     "metadata": {},
     "output_type": "execute_result"
    }
   ],
   "source": [
    "df7 = remove_outliers(df6) \n",
    "\n",
    " \n",
    "\n",
    "{ \n",
    "\n",
    "    '1':{ \n",
    "\n",
    "        'mean':4000, \n",
    "\n",
    "        'std':2000, \n",
    "\n",
    "        'count':34 \n",
    "\n",
    "    }, \n",
    "\n",
    "    '2':{ \n",
    "\n",
    "         'mean':4300, \n",
    "\n",
    "        'std':2300, \n",
    "\n",
    "        'count':22 \n",
    "\n",
    "    } \n",
    "\n",
    "} "
   ]
  },
  {
   "cell_type": "code",
   "execution_count": 12,
   "id": "d8bbf025",
   "metadata": {},
   "outputs": [],
   "source": [
    "def remove_bhk(df): \n",
    "\n",
    "    exclude_indices = np.array([]) \n",
    "\n",
    "    for location, location_df in df.groupby('location'): \n",
    "\n",
    "        bhk_stats = {} \n",
    "\n",
    "        for bhk, bhk_df in location_df.groupby('bhk'): \n",
    "\n",
    "            bhk_stats[bhk] = { \n",
    "\n",
    "                 'mean': np.mean(bhk_df.price_per_sqft), \n",
    "\n",
    "                 'std': np.std(bhk_df.price_per_sqft), \n",
    "\n",
    "                 'count':bhk_df.shape[0] \n",
    "\n",
    "            } \n",
    "\n",
    "        for bhk, bhk_df in location_df.groupby('bhk'): \n",
    "\n",
    "            stats = bhk_stats.get(bhk-1) \n",
    "\n",
    "            if stats and stats['count']>5: \n",
    "\n",
    "                exclude_indices = np.append(exclude_indices, bhk_df[bhk_df.price_per_sqft<(stats['mean'])].index.values) \n",
    "\n",
    "    return df.drop(exclude_indices, axis='index')"
   ]
  },
  {
   "cell_type": "code",
   "execution_count": 13,
   "id": "d5c46a91",
   "metadata": {},
   "outputs": [],
   "source": [
    "df8 = remove_bhk(df7) \n",
    "\n",
    "df9 = df8[df8.bath<df8.bhk + 2] \n",
    "\n",
    "df10 = df9.drop(['size','price_per_sqft'],axis='columns') \n",
    "\n",
    "dummies = pd.get_dummies(df10.location) \n",
    "\n",
    "df11 = pd.concat([df10,dummies],axis ='columns') \n",
    "\n",
    "df11 = pd.concat([df10,dummies.drop('other',axis='columns')],axis ='columns') \n",
    "\n",
    "df12 = df11.drop('location',axis='columns') "
   ]
  },
  {
   "cell_type": "code",
   "execution_count": 14,
   "id": "850775cd",
   "metadata": {},
   "outputs": [],
   "source": [
    "X = df12.drop('price',axis='columns') \n",
    "\n",
    "y = df12.price "
   ]
  },
  {
   "cell_type": "code",
   "execution_count": 15,
   "id": "8218aacf",
   "metadata": {},
   "outputs": [],
   "source": [
    "X_train,X_test,y_train,y_test = train_test_split(X,y,test_size=0.2,random_state=10) "
   ]
  },
  {
   "cell_type": "code",
   "execution_count": 16,
   "id": "1063fb03",
   "metadata": {},
   "outputs": [
    {
     "data": {
      "text/plain": [
       "0.8452277697874291"
      ]
     },
     "execution_count": 16,
     "metadata": {},
     "output_type": "execute_result"
    }
   ],
   "source": [
    "lr_clf = LinearRegression() \n",
    "\n",
    "lr_clf = lr_clf.fit(X_train.values , y_train.values)    #model is trained \n",
    "\n",
    "lr_clf.score(X_test.values , y_test.values) "
   ]
  },
  {
   "cell_type": "code",
   "execution_count": 17,
   "id": "c0e620ce",
   "metadata": {},
   "outputs": [
    {
     "data": {
      "text/plain": [
       "['./lr_clf.joblib']"
      ]
     },
     "execution_count": 17,
     "metadata": {},
     "output_type": "execute_result"
    }
   ],
   "source": [
    "joblib.dump(lr_clf, \"./lr_clf.joblib\", compress=True)"
   ]
  },
  {
   "cell_type": "code",
   "execution_count": 18,
   "id": "787f83a0",
   "metadata": {},
   "outputs": [],
   "source": [
    "def predict_price(location,sqft,bath,bhk): \n",
    "    loc_index = np.where(X.columns==location)[0][0]\n",
    "    x = np.zeros(len(X.columns))\n",
    "    x[0] = sqft\n",
    "    x[1] = bath\n",
    "    x[2] = bhk\n",
    "    if loc_index >= 0:\n",
    "        x[loc_index] = 1\n",
    "    return lr_clf.predict([x])[0]"
   ]
  },
  {
   "cell_type": "code",
   "execution_count": 19,
   "id": "1fb5e58e",
   "metadata": {},
   "outputs": [
    {
     "data": {
      "text/plain": [
       "62.297093745810045"
      ]
     },
     "execution_count": 19,
     "metadata": {},
     "output_type": "execute_result"
    }
   ],
   "source": [
    "predict_price('Vijayanagar',1000, 2, 2)"
   ]
  },
  {
   "cell_type": "code",
   "execution_count": 26,
   "id": "146364c8",
   "metadata": {},
   "outputs": [
    {
     "data": {
      "text/plain": [
       "['./Variable.joblib']"
      ]
     },
     "execution_count": 26,
     "metadata": {},
     "output_type": "execute_result"
    }
   ],
   "source": [
    "locations = df5.location.unique()\n",
    "BHK = X.bhk.unique()\n",
    "BHK = np.sort(BHK)\n",
    "Bath = X.bath.unique()\n",
    "Bath = np.sort(Bath)\n",
    "min_sqft = X.total_sqft.min()\n",
    "max_sqft = X.total_sqft.max()\n",
    "\n",
    "Variables = [locations, BHK, Bath, min_sqft, max_sqft]\n",
    "joblib.dump(Variables, './Variable.joblib', compress=True)"
   ]
  }
 ],
 "metadata": {
  "kernelspec": {
   "display_name": "myenv",
   "language": "python",
   "name": "python3"
  },
  "language_info": {
   "codemirror_mode": {
    "name": "ipython",
    "version": 3
   },
   "file_extension": ".py",
   "mimetype": "text/x-python",
   "name": "python",
   "nbconvert_exporter": "python",
   "pygments_lexer": "ipython3",
   "version": "3.10.7"
  }
 },
 "nbformat": 4,
 "nbformat_minor": 5
}
